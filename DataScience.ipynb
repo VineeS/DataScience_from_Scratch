{
  "nbformat": 4,
  "nbformat_minor": 0,
  "metadata": {
    "colab": {
      "name": "DataScience.ipynb",
      "provenance": [],
      "collapsed_sections": [],
      "authorship_tag": "ABX9TyMlmHbY09ydhXO0+j8HJ/Qf",
      "include_colab_link": true
    },
    "kernelspec": {
      "name": "python3",
      "display_name": "Python 3"
    }
  },
  "cells": [
    {
      "cell_type": "markdown",
      "metadata": {
        "id": "view-in-github",
        "colab_type": "text"
      },
      "source": [
        "<a href=\"https://colab.research.google.com/github/VineeS/DataScience_from_Scratch/blob/master/DataScience.ipynb\" target=\"_parent\"><img src=\"https://colab.research.google.com/assets/colab-badge.svg\" alt=\"Open In Colab\"/></a>"
      ]
    },
    {
      "cell_type": "markdown",
      "metadata": {
        "id": "YK-e516ozjv6",
        "colab_type": "text"
      },
      "source": [
        "# **Chapter 1: Introduction**"
      ]
    },
    {
      "cell_type": "code",
      "metadata": {
        "id": "LIv0ue0d3xt1",
        "colab_type": "code",
        "colab": {
          "base_uri": "https://localhost:8080/",
          "height": 187
        },
        "outputId": "8675f56f-c85f-41cd-e5a4-c712c00994da"
      },
      "source": [
        "users = [\n",
        "         {\"id\":0, \"name\":\"Hero\"},\n",
        "         {\"id\":1, \"name\":\"Dunn\"},\n",
        "         {\"id\":2, \"name\":\"Sue\"},\n",
        "         {\"id\":3, \"name\":\"Chi\"},\n",
        "         {\"id\":4, \"name\":\"Thor\"},\n",
        "         {\"id\":5, \"name\":\"Clive\"},\n",
        "         {\"id\":6, \"name\":\"Hicks\"},\n",
        "         {\"id\":7, \"name\":\"Devin\"},\n",
        "         {\"id\":8, \"name\":\"Kate\"},\n",
        "         {\"id\":9, \"name\":\"Klien\"}\n",
        "         ]\n",
        "\n",
        "Friendships = [(0,1),(0,2),(1,2),(1,3),(2,3),(3,4),(4,5),(5,6),(5,7),(6,8),(7,8),(8,9)]\n",
        "\n",
        "\n",
        "for user in users:\n",
        "  user[\"friends\"] = []\n",
        "\n",
        "for i, j in Friendships:\n",
        "  users[i][\"friends\"].append(users[j])\n",
        "  users[j][\"friends\"].append(users[i])\n",
        "\n",
        "def number_of_friends(user):\n",
        "  return len(user['friends'])\n",
        "\n",
        "total_connections = sum(number_of_friends(user) for user in users)\n",
        "print(\"total number of connections\",total_connections) # total number of connections\n",
        "\n",
        "###### Avg connection \n",
        "\n",
        "num_user= len(users)\n",
        "avg_connections = total_connections/num_user\n",
        "print(\"Avg connection\",avg_connections)\n",
        "\n",
        "##### User with most friends to least friends\n",
        "\n",
        "number_of_friends_by_id = [(user[\"id\"], number_of_friends(user)) for user in users]\n",
        "print(sorted(number_of_friends_by_id, key= lambda userid: userid[1], reverse=True))\n",
        "\n",
        "##### lambda examples below:\n",
        "\n",
        "user = [{\"name\": \"Dough\", \"age\": 55}, \n",
        "            {\"name\": \"Ben\", \"age\": 44}, \n",
        "            {\"name\": \"Citrus\", \"age\": 33},\n",
        "            {\"name\": \"Abdullah\", \"age\":22},\n",
        "            ]\n",
        "print(\"-------------------------------------------------------------------------\")\n",
        "print(sorted(user, key=lambda el: el[\"name\"]))\n",
        "print(sorted(user, key= lambda y: y[\"age\"]))\n",
        "\n",
        "           #[0].     #[1]     #[2]\n",
        "cars = [('citroen', 'zsara', 1100), ('lincoln', 'navigator', 2000), ('bmw', 'x5', 1700)]\n",
        "print(\"-------------------------------------------------------------------------\")\n",
        "\n",
        "print(sorted(cars, key=lambda car: car[0])) \n",
        "print(sorted(cars, key=lambda car: car[1]))\n",
        "print(sorted(cars, key=lambda car: car[2]))"
      ],
      "execution_count": null,
      "outputs": [
        {
          "output_type": "stream",
          "text": [
            "total number of connections 24\n",
            "Avg connection 2.4\n",
            "[(1, 3), (2, 3), (3, 3), (5, 3), (8, 3), (0, 2), (4, 2), (6, 2), (7, 2), (9, 1)]\n",
            "-------------------------------------------------------------------------\n",
            "[{'name': 'Abdullah', 'age': 22}, {'name': 'Ben', 'age': 44}, {'name': 'Citrus', 'age': 33}, {'name': 'Dough', 'age': 55}]\n",
            "[{'name': 'Abdullah', 'age': 22}, {'name': 'Citrus', 'age': 33}, {'name': 'Ben', 'age': 44}, {'name': 'Dough', 'age': 55}]\n",
            "-------------------------------------------------------------------------\n",
            "[('bmw', 'x5', 1700), ('citroen', 'zsara', 1100), ('lincoln', 'navigator', 2000)]\n",
            "[('lincoln', 'navigator', 2000), ('bmw', 'x5', 1700), ('citroen', 'zsara', 1100)]\n",
            "[('citroen', 'zsara', 1100), ('bmw', 'x5', 1700), ('lincoln', 'navigator', 2000)]\n"
          ],
          "name": "stdout"
        }
      ]
    },
    {
      "cell_type": "code",
      "metadata": {
        "id": "90tLtsqeHc5s",
        "colab_type": "code",
        "colab": {
          "base_uri": "https://localhost:8080/",
          "height": 102
        },
        "outputId": "92da5448-faaa-46eb-d619-8e2900ceea1a"
      },
      "source": [
        "### Now we need to find the friends of friends\n",
        "\n",
        "def friends_of(user):\n",
        "  return [fof[\"id\"] for fof in user[\"friends\"] ]\n",
        "\n",
        "def friends_of_friends(user):\n",
        "  return [foaf[\"id\"] for friend in user[\"friends\"] for foaf in friend[\"friends\"]]\n",
        "\n",
        "print(\"Hero's friends\",friends_of(users[0]))\n",
        "print(\"Hero's friend of friend\",friends_of_friends(users[0]))\n",
        "\n",
        "\n",
        "print([friend[\"id\"] for friend in users[0][\"friends\"]])\n",
        "print([friend[\"id\"] for friend in users[1][\"friends\"]])\n",
        "print([friend[\"id\"] for friend in users[2][\"friends\"]])"
      ],
      "execution_count": null,
      "outputs": [
        {
          "output_type": "stream",
          "text": [
            "Hero's friends [1, 2]\n",
            "Hero's friend of friend [0, 2, 3, 0, 1, 3]\n",
            "[1, 2]\n",
            "[0, 2, 3]\n",
            "[0, 1, 3]\n"
          ],
          "name": "stdout"
        }
      ]
    },
    {
      "cell_type": "code",
      "metadata": {
        "id": "0m-l6NzAKdwM",
        "colab_type": "code",
        "colab": {
          "base_uri": "https://localhost:8080/",
          "height": 68
        },
        "outputId": "3cad08be-83c4-47d6-b56c-1273a44ae81f"
      },
      "source": [
        "# It would be good to calculate the number of mutual friends\n",
        "\n",
        "from collections import Counter\n",
        "\n",
        "def not_the_same(user, other_user):\n",
        "  #two user are not the same if they do not have same Id's\n",
        "  return user[\"id\"] != other_user[\"id\"]\n",
        "\n",
        "def not_friends(user, other_user):\n",
        "  #other_user is not a friend if he/she not in the user[\"friends\"]\n",
        "  #The all() method returns True when all elements in the given iterable are true. If not, it returns False.\n",
        "  return all(not_the_same(friend, other_user) for friend in user[\"friends\"])\n",
        "\n",
        "print(not_friends(users[8], users[5])) # will return true if user and other_user are not friends\n",
        "\n",
        "def friends_of_friends_ids(user):\n",
        "  return Counter(foaf[\"id\"] for friend in user[\"friends\"] for foaf in friend[\"friends\"] if not_the_same(user, foaf) and not_friends(user,foaf))\n",
        "\n",
        "print(friends_of_friends_ids(users[0])) # output: Counter({3: 2}) shows that id:0 has two mutual friends with 3 \n",
        "print(friends_of_friends_ids(users[3])) # output: Counter({0: 2, 5: 1}) shows that id:3 has two mutual friends with 0 and one mutual friend with 5"
      ],
      "execution_count": null,
      "outputs": [
        {
          "output_type": "stream",
          "text": [
            "True\n",
            "Counter({3: 2})\n",
            "Counter({0: 2, 5: 1})\n"
          ],
          "name": "stdout"
        }
      ]
    },
    {
      "cell_type": "code",
      "metadata": {
        "id": "n_v8VuqyM4rr",
        "colab_type": "code",
        "colab": {
          "base_uri": "https://localhost:8080/",
          "height": 71
        },
        "outputId": "70d81b4c-21b9-4c6d-8e32-0054b48c1b07"
      },
      "source": [
        "interests = [\n",
        "             (0, \"Hadoop\"), (0, \"Big Data\"), (0, \"HBase\"), (0, \"Java\"),\n",
        "             (0, \"Spark\"), (0, \"Storm\"), (0, \"Cassandra\"),\n",
        "             (1, \"NoSQL\"), (1, \"MongoDB\"), (1, \"Cassandra\"), (1, \"HBase\"),\n",
        "             (1, \"Postgres\"), (2, \"Python\"), (2, \"scikit-learn\"), (2, \"scipy\"),\n",
        "             (2, \"numpy\"), (2, \"statsmodels\"), (2, \"pandas\"), (3, \"R\"), (3, \"Python\"),\n",
        "             (3, \"statistics\"), (3, \"regression\"), (3, \"probability\"), \n",
        "             (4, \"machine learning\"), (4, \"regression\"), (3, \"probability\"),\n",
        "             (4, \"libsvm\"), (5, \"Python\"), (5, \"R\"), (5, \"Java\"), (5, \"C++\"),\n",
        "             (5, \"Haskell\"), (5, \"programming languages\"), (6, \"statistics\"),\n",
        "             (6, \"probability\"), (6, \"mathematics\"), (6, \"theory\"), \n",
        "             (7, \"machine learning\"), (7, \"scikit-learn\"), (7, \"Mahout\"),\n",
        "             (7, \"neural networks\"), (8, \"neural networks\"), (8, \"deep learning\"),\n",
        "             (8, \"Big Data\"), (8, \"artificial intelligence\"), (9, \"Hadoop\"),\n",
        "             (9, \"Java\"), (9, \"MapReduce\"), (9, \"Big Data\")\n",
        "             ]\n",
        "\n",
        "          \n",
        "\n",
        "def data_scientist_who_likes(target_interset):\n",
        "  return [user_id for user_id,user_interests in interests if user_interests == target_interset]\n",
        "\n",
        "data_scientist_who_likes(\"Python\")\n",
        "# the above method searches the whole list\n",
        "\n",
        "from collections import defaultdict\n",
        "\n",
        "# key - intersets and value - list of user_ids with there interest\n",
        "user_ids_by_list = defaultdict(list)\n",
        "for user_id, interest in interests:\n",
        "  user_ids_by_list[interest].append(user_id) \n",
        "\n",
        "print(user_ids_by_list)\n",
        "\n",
        "###### key - userIds and values - list of interest with there user_ids \n",
        "interests_by_the_user_ids = defaultdict(list)\n",
        "for user_id, interest in interests:\n",
        "  interests_by_the_user_ids[user_id].append(interest) \n",
        "\n",
        "print(interests_by_the_user_ids)\n",
        "\n"
      ],
      "execution_count": null,
      "outputs": [
        {
          "output_type": "stream",
          "text": [
            "defaultdict(<class 'list'>, {'Hadoop': [0, 9], 'Big Data': [0, 8, 9], 'HBase': [0, 1], 'Java': [0, 5, 9], 'Spark': [0], 'Storm': [0], 'Cassandra': [0, 1], 'NoSQL': [1], 'MongoDB': [1], 'Postgres': [1], 'Python': [2, 3, 5], 'scikit-learn': [2, 7], 'scipy': [2], 'numpy': [2], 'statsmodels': [2], 'pandas': [2], 'R': [3, 5], 'statistics': [3, 6], 'regression': [3, 4], 'probability': [3, 3, 6], 'machine learning': [4, 7], 'libsvm': [4], 'C++': [5], 'Haskell': [5], 'programming languages': [5], 'mathematics': [6], 'theory': [6], 'Mahout': [7], 'neural networks': [7, 8], 'deep learning': [8], 'artificial intelligence': [8], 'MapReduce': [9]})\n",
            "defaultdict(<class 'list'>, {0: ['Hadoop', 'Big Data', 'HBase', 'Java', 'Spark', 'Storm', 'Cassandra'], 1: ['NoSQL', 'MongoDB', 'Cassandra', 'HBase', 'Postgres'], 2: ['Python', 'scikit-learn', 'scipy', 'numpy', 'statsmodels', 'pandas'], 3: ['R', 'Python', 'statistics', 'regression', 'probability', 'probability'], 4: ['machine learning', 'regression', 'libsvm'], 5: ['Python', 'R', 'Java', 'C++', 'Haskell', 'programming languages'], 6: ['statistics', 'probability', 'mathematics', 'theory'], 7: ['machine learning', 'scikit-learn', 'Mahout', 'neural networks'], 8: ['neural networks', 'deep learning', 'Big Data', 'artificial intelligence'], 9: ['Hadoop', 'Java', 'MapReduce', 'Big Data']})\n"
          ],
          "name": "stdout"
        }
      ]
    },
    {
      "cell_type": "code",
      "metadata": {
        "id": "6Y94rgHDluss",
        "colab_type": "code",
        "colab": {
          "base_uri": "https://localhost:8080/",
          "height": 136
        },
        "outputId": "56950327-9ee4-4b2c-b1ea-2200dd0ebebf"
      },
      "source": [
        "# salaries and experience (pg 8)\n",
        "\n",
        "salaries_and_tenures = [(83000, 8.7), (88000, 8.1),\n",
        "                        (48000, 0.7), (76000, 6),\n",
        "                        (69000, 6.5), (76000, 7.5),\n",
        "                        (60000, 2.5), (83000, 10),\n",
        "                        (48000, 1.9), (63000, 4.2)]\n",
        "\n",
        "\n",
        "salary_by_tenure = defaultdict(list)\n",
        "\n",
        "for tenure, salary in salaries_and_tenures:\n",
        "  salary_by_tenure[tenure].append(salary)\n",
        "\n",
        "salary_by_tenure\n",
        "\n",
        "# avg salary at that tenure \n",
        "avg_salary_by_tenure = {\n",
        "    tenure : sum(salaries)/len(salaries)\n",
        "    for tenure, salaries in salary_by_tenure.items()\n",
        "}\n",
        "\n",
        "avg_salary_by_tenure\n",
        "\n"
      ],
      "execution_count": null,
      "outputs": [
        {
          "output_type": "execute_result",
          "data": {
            "text/plain": [
              "{48000: 1.2999999999999998,\n",
              " 60000: 2.5,\n",
              " 63000: 4.2,\n",
              " 69000: 6.5,\n",
              " 76000: 6.75,\n",
              " 83000: 9.35,\n",
              " 88000: 8.1}"
            ]
          },
          "metadata": {
            "tags": []
          },
          "execution_count": 6
        }
      ]
    },
    {
      "cell_type": "markdown",
      "metadata": {
        "id": "dCuTpVXAztj_",
        "colab_type": "text"
      },
      "source": [
        "# **Chapter 2: Python Crash Course**\n"
      ]
    },
    {
      "cell_type": "code",
      "metadata": {
        "id": "oumeUHQaz3M4",
        "colab_type": "code",
        "colab": {
          "base_uri": "https://localhost:8080/",
          "height": 34
        },
        "outputId": "2b3000d4-afae-409c-d040-d484d6927700"
      },
      "source": [
        "###### LISTS\n",
        "\n",
        "x = range(10)\n",
        "zero = x[0]\n",
        "one = x[1]\n",
        "two = x[2]\n",
        "nine = x[-1]\n",
        "seven = x[-2]\n",
        "\n",
        "### List Slicing\n",
        "list_integer = [1,2,4,9,10]\n",
        "first_three = list_integer[:3]\n",
        "three_to_end =list_integer[3:]\n",
        "one_to_four = list_integer[1:5] # wont print the 5th element\n",
        "last_three = list_integer[-3:]\n",
        "except_last_three = list_integer[:-3]\n",
        "without_first_and_last = list_integer[1:-1]\n",
        "copy_of_x = list_integer[:]\n",
        "copy_of_x"
      ],
      "execution_count": null,
      "outputs": [
        {
          "output_type": "execute_result",
          "data": {
            "text/plain": [
              "[1, 2, 4, 9, 10]"
            ]
          },
          "metadata": {
            "tags": []
          },
          "execution_count": 7
        }
      ]
    },
    {
      "cell_type": "code",
      "metadata": {
        "id": "ZJTdVPWUHAed",
        "colab_type": "code",
        "colab": {
          "base_uri": "https://localhost:8080/",
          "height": 34
        },
        "outputId": "bb17d3a7-8640-4772-8203-b2aba156feb7"
      },
      "source": [
        "### Dictionary\n",
        "\n",
        "grades = {\"Vinee\":80, \"Aman\":90}\n",
        "check = \"Yash\" in grades\n",
        "check1 = grades.get(\"Aman\")\n",
        "len(grades)"
      ],
      "execution_count": null,
      "outputs": [
        {
          "output_type": "execute_result",
          "data": {
            "text/plain": [
              "2"
            ]
          },
          "metadata": {
            "tags": []
          },
          "execution_count": 8
        }
      ]
    },
    {
      "cell_type": "code",
      "metadata": {
        "id": "ZQFrwa7VItXC",
        "colab_type": "code",
        "colab": {
          "base_uri": "https://localhost:8080/",
          "height": 34
        },
        "outputId": "c5efdfca-4b15-4e8a-e71a-6bdfa9f57033"
      },
      "source": [
        "documents = \"forgiveness is better than permission\"\n",
        "word_counts = {}\n",
        "for word in documents:\n",
        "  if word in word_counts:\n",
        "    word_counts[word] += 1\n",
        "  else:\n",
        "    word_counts[word] =1\n",
        "print(word_counts)"
      ],
      "execution_count": null,
      "outputs": [
        {
          "output_type": "stream",
          "text": [
            "{'f': 1, 'o': 2, 'r': 3, 'g': 1, 'i': 4, 'v': 1, 'e': 5, 'n': 3, 's': 5, ' ': 4, 'b': 1, 't': 3, 'h': 1, 'a': 1, 'p': 1, 'm': 1}\n"
          ],
          "name": "stdout"
        }
      ]
    },
    {
      "cell_type": "code",
      "metadata": {
        "id": "xjGzTpetLC6M",
        "colab_type": "code",
        "colab": {
          "base_uri": "https://localhost:8080/",
          "height": 34
        },
        "outputId": "63845d07-7e74-4c0b-a6df-3c30f8691677"
      },
      "source": [
        "documents = \"forgiveness is better than permission\"\n",
        "word_counts1 = {}\n",
        "for word in documents:\n",
        "  try:\n",
        "    word_counts1[word] += 1\n",
        "  except KeyError:\n",
        "    word_counts1[word] =1\n",
        "print(word_counts1)"
      ],
      "execution_count": null,
      "outputs": [
        {
          "output_type": "stream",
          "text": [
            "{'f': 1, 'o': 2, 'r': 3, 'g': 1, 'i': 4, 'v': 1, 'e': 5, 'n': 3, 's': 5, ' ': 4, 'b': 1, 't': 3, 'h': 1, 'a': 1, 'p': 1, 'm': 1}\n"
          ],
          "name": "stdout"
        }
      ]
    },
    {
      "cell_type": "code",
      "metadata": {
        "id": "3KC7VuEvLeDt",
        "colab_type": "code",
        "colab": {
          "base_uri": "https://localhost:8080/",
          "height": 34
        },
        "outputId": "73d13650-f3e5-493f-b2ba-48c1c791b4ba"
      },
      "source": [
        "word_counts_get = {}\n",
        "for word in documents:\n",
        "  previous_count = word_counts_get.get(word,0)\n",
        "  word_counts_get[word] = previous_count+1\n",
        "\n",
        "print(word_counts_get)"
      ],
      "execution_count": null,
      "outputs": [
        {
          "output_type": "stream",
          "text": [
            "{'f': 1, 'o': 2, 'r': 3, 'g': 1, 'i': 4, 'v': 1, 'e': 5, 'n': 3, 's': 5, ' ': 4, 'b': 1, 't': 3, 'h': 1, 'a': 1, 'p': 1, 'm': 1}\n"
          ],
          "name": "stdout"
        }
      ]
    },
    {
      "cell_type": "code",
      "metadata": {
        "id": "y7INMkD4NbLo",
        "colab_type": "code",
        "colab": {
          "base_uri": "https://localhost:8080/",
          "height": 68
        },
        "outputId": "ad9c73c3-bf06-4e79-d793-ce3babb87287"
      },
      "source": [
        "dictionary = defaultdict(int)\n",
        "for word in documents:\n",
        "  dictionary[word] +=1\n",
        "\n",
        "dd_list1 = defaultdict(list)\n",
        "dd_list1[2].append(1)\n",
        "dd_list1[3].append(1)\n",
        "print(dd_list1)\n",
        "\n",
        "dd_list2 = defaultdict(dict)\n",
        "dd_list2[\"Jane\"]= 0\n",
        "dd_list2[\"Doe\"][\"is\"] = \"Seattle\"\n",
        "print(dd_list2)\n",
        "\n",
        "dd_list3 = defaultdict(lambda: [0,0])\n",
        "dd_list3[1,1] = 2\n",
        "dd_list3[1,2] = 3\n",
        "print(dd_list3)"
      ],
      "execution_count": null,
      "outputs": [
        {
          "output_type": "stream",
          "text": [
            "defaultdict(<class 'list'>, {2: [1], 3: [1]})\n",
            "defaultdict(<class 'dict'>, {'Jane': 0, 'Doe': {'is': 'Seattle'}})\n",
            "defaultdict(<function <lambda> at 0x7f8cdfe8df28>, {(1, 1): 2, (1, 2): 3})\n"
          ],
          "name": "stdout"
        }
      ]
    },
    {
      "cell_type": "markdown",
      "metadata": {
        "id": "jXorIzzKdeV0",
        "colab_type": "text"
      },
      "source": [
        "###**Counter**\n"
      ]
    },
    {
      "cell_type": "code",
      "metadata": {
        "id": "z8XhirSlcTgt",
        "colab_type": "code",
        "colab": {
          "base_uri": "https://localhost:8080/",
          "height": 187
        },
        "outputId": "4824c389-120b-4368-a7c0-d34c39b981e2"
      },
      "source": [
        "from collections import Counter\n",
        "c = Counter([0,1,2,0])\n",
        "c\n",
        "\n",
        "# The counter turns the sequence of values into default dict\n",
        "\n",
        "word_counts = Counter(documents)\n",
        "\n",
        "for word, count in word_counts.most_common(10):\n",
        "  print(word,count)\n",
        "\n",
        "# most common method that is frequently used"
      ],
      "execution_count": null,
      "outputs": [
        {
          "output_type": "stream",
          "text": [
            "e 5\n",
            "s 5\n",
            "i 4\n",
            "  4\n",
            "r 3\n",
            "n 3\n",
            "t 3\n",
            "o 2\n",
            "f 1\n",
            "g 1\n"
          ],
          "name": "stdout"
        }
      ]
    },
    {
      "cell_type": "markdown",
      "metadata": {
        "id": "HDlHftz0dhnP",
        "colab_type": "text"
      },
      "source": [
        "###**Sets**"
      ]
    },
    {
      "cell_type": "code",
      "metadata": {
        "id": "M9MF9iJgdkLV",
        "colab_type": "code",
        "colab": {
          "base_uri": "https://localhost:8080/",
          "height": 51
        },
        "outputId": "08afbd1d-60c8-4e7b-99a8-a0d0a159bb74"
      },
      "source": [
        "Sets = set()\n",
        "Sets.add(2)\n",
        "Sets.add(4)\n",
        "Sets.add(1)\n",
        "Sets.add(2)\n",
        "Sets.add(3)\n",
        "print(Sets) \n",
        "print(len(Sets)) # excludes the repeated values"
      ],
      "execution_count": null,
      "outputs": [
        {
          "output_type": "stream",
          "text": [
            "{1, 2, 3, 4}\n",
            "4\n"
          ],
          "name": "stdout"
        }
      ]
    },
    {
      "cell_type": "code",
      "metadata": {
        "id": "qEP0OTseebYV",
        "colab_type": "code",
        "colab": {
          "base_uri": "https://localhost:8080/",
          "height": 51
        },
        "outputId": "35be75f3-6ea1-47b3-88b4-8c782e5996c0"
      },
      "source": [
        "stopwords_list = [\"a\",\"an\",\"at\"] + [\"yet\"]+[\"yet\",\"yet\", \"you\"]\n",
        "print(\"zip\" in stopwords_list)\n",
        "stopwords_set = set(stopwords_list)\n",
        "\n",
        "\"yet\" in stopwords_set\n",
        "#stopwords_set"
      ],
      "execution_count": null,
      "outputs": [
        {
          "output_type": "stream",
          "text": [
            "False\n"
          ],
          "name": "stdout"
        },
        {
          "output_type": "execute_result",
          "data": {
            "text/plain": [
              "True"
            ]
          },
          "metadata": {
            "tags": []
          },
          "execution_count": 15
        }
      ]
    },
    {
      "cell_type": "code",
      "metadata": {
        "id": "k9LhWEmHgQrd",
        "colab_type": "code",
        "colab": {
          "base_uri": "https://localhost:8080/",
          "height": 51
        },
        "outputId": "20506918-abbc-4ba2-c58a-85da2467d20a"
      },
      "source": [
        "item_list = [1,2,3,4,1,2,3]\n",
        "num_items = len(item_list)\n",
        "print(num_items)\n",
        "print(set(item_list))"
      ],
      "execution_count": null,
      "outputs": [
        {
          "output_type": "stream",
          "text": [
            "7\n",
            "{1, 2, 3, 4}\n"
          ],
          "name": "stdout"
        }
      ]
    },
    {
      "cell_type": "code",
      "metadata": {
        "id": "8XY4m_20LLTA",
        "colab_type": "code",
        "colab": {
          "base_uri": "https://localhost:8080/",
          "height": 35
        },
        "outputId": "c9055201-2d18-4016-952b-4bc876a4185f"
      },
      "source": [
        "x = 17\n",
        "ans = \"Yes\" if x%2 == 0 else \"False\"\n",
        "ans"
      ],
      "execution_count": null,
      "outputs": [
        {
          "output_type": "execute_result",
          "data": {
            "application/vnd.google.colaboratory.intrinsic": {
              "type": "string"
            },
            "text/plain": [
              "'False'"
            ]
          },
          "metadata": {
            "tags": []
          },
          "execution_count": 17
        }
      ]
    },
    {
      "cell_type": "markdown",
      "metadata": {
        "id": "HCdD-AI6MHtX",
        "colab_type": "text"
      },
      "source": [
        "### **Few Important**\n"
      ]
    },
    {
      "cell_type": "code",
      "metadata": {
        "id": "xnT7Ido_LpDF",
        "colab_type": "code",
        "colab": {
          "base_uri": "https://localhost:8080/",
          "height": 51
        },
        "outputId": "baf613f6-dfd3-4f61-aeb8-86fa2dc9bb7d"
      },
      "source": [
        "#Sorting\n",
        "x = [1,3,1,2,5]\n",
        "answer = sorted(x)\n",
        "print(answer)\n",
        "y = [7,3,9,1,3]\n",
        "y.sort()\n",
        "y"
      ],
      "execution_count": null,
      "outputs": [
        {
          "output_type": "stream",
          "text": [
            "[1, 1, 2, 3, 5]\n"
          ],
          "name": "stdout"
        },
        {
          "output_type": "execute_result",
          "data": {
            "text/plain": [
              "[1, 3, 3, 7, 9]"
            ]
          },
          "metadata": {
            "tags": []
          },
          "execution_count": 18
        }
      ]
    },
    {
      "cell_type": "code",
      "metadata": {
        "id": "Tfa6lsFbMEKY",
        "colab_type": "code",
        "colab": {
          "base_uri": "https://localhost:8080/",
          "height": 34
        },
        "outputId": "0c635ae7-32e9-4100-e818-706bd40b207c"
      },
      "source": [
        "rev = sorted([7,-3,9,1,3], reverse=True)\n",
        "rev"
      ],
      "execution_count": null,
      "outputs": [
        {
          "output_type": "execute_result",
          "data": {
            "text/plain": [
              "[9, 7, 3, 1, -3]"
            ]
          },
          "metadata": {
            "tags": []
          },
          "execution_count": 19
        }
      ]
    },
    {
      "cell_type": "code",
      "metadata": {
        "id": "jrxg6U8qPsfn",
        "colab_type": "code",
        "colab": {
          "base_uri": "https://localhost:8080/",
          "height": 34
        },
        "outputId": "6d827bca-b7d0-4454-a15a-ded5788126de"
      },
      "source": [
        "one_is_less_than_two = 1 < 2\n",
        "one_is_less_than_two"
      ],
      "execution_count": null,
      "outputs": [
        {
          "output_type": "execute_result",
          "data": {
            "text/plain": [
              "True"
            ]
          },
          "metadata": {
            "tags": []
          },
          "execution_count": 20
        }
      ]
    },
    {
      "cell_type": "code",
      "metadata": {
        "id": "6uCa1j6_QGzX",
        "colab_type": "code",
        "colab": {
          "base_uri": "https://localhost:8080/",
          "height": 34
        },
        "outputId": "6d0aad52-1e85-44e3-cf3f-c68da280817b"
      },
      "source": [
        "def some_func_that_returns_a_string():\n",
        "  return \"tapp\"\n",
        "s = some_func_that_returns_a_string()\n",
        "if s:\n",
        "  first_char = s[0]\n",
        "else:\n",
        "  first_char = \"\"\n",
        "\n",
        "first = s[0]\n",
        "print(\"first\",first)"
      ],
      "execution_count": null,
      "outputs": [
        {
          "output_type": "stream",
          "text": [
            "first t\n"
          ],
          "name": "stdout"
        }
      ]
    },
    {
      "cell_type": "markdown",
      "metadata": {
        "id": "JwM-f49gRhX9",
        "colab_type": "text"
      },
      "source": [
        "###List of comprehensions\n"
      ]
    },
    {
      "cell_type": "code",
      "metadata": {
        "id": "i1QsUnqlRl9u",
        "colab_type": "code",
        "colab": {
          "base_uri": "https://localhost:8080/",
          "height": 68
        },
        "outputId": "6c9f2f8c-7bcc-491d-f952-1bcf1a609053"
      },
      "source": [
        "even_numbers = [x for x in range(5) if x % 2 == 0]\n",
        "square_of_number = [x*x for x in range(5)]\n",
        "even_square = [x*x for x in even_numbers]\n",
        "print(\"even_numbers\",even_numbers)\n",
        "print(\"square_of_number\",square_of_number)\n",
        "print(\"even_square\",even_square)"
      ],
      "execution_count": null,
      "outputs": [
        {
          "output_type": "stream",
          "text": [
            "even_numbers [0, 2, 4]\n",
            "square_of_number [0, 1, 4, 9, 16]\n",
            "even_square [0, 4, 16]\n"
          ],
          "name": "stdout"
        }
      ]
    },
    {
      "cell_type": "code",
      "metadata": {
        "id": "nmbhntICSv6d",
        "colab_type": "code",
        "colab": {
          "base_uri": "https://localhost:8080/",
          "height": 51
        },
        "outputId": "1cb471ba-e096-48d5-fa41-da55e86888e3"
      },
      "source": [
        "square_dict = {x: x*x for x in range(5)}\n",
        "sqaure_set = {x*x for x in [-2,3,-3,-2,-1]}\n",
        "print(\"square_dict\",square_dict)\n",
        "print(\"sqaure_set\",sqaure_set)"
      ],
      "execution_count": null,
      "outputs": [
        {
          "output_type": "stream",
          "text": [
            "square_dict {0: 0, 1: 1, 2: 4, 3: 9, 4: 16}\n",
            "sqaure_set {9, 4, 1}\n"
          ],
          "name": "stdout"
        }
      ]
    },
    {
      "cell_type": "code",
      "metadata": {
        "id": "tXT_r7CxUH2-",
        "colab_type": "code",
        "colab": {
          "base_uri": "https://localhost:8080/",
          "height": 51
        },
        "outputId": "3ca9bafd-5c88-45f8-e8c9-7137ba46ca4c"
      },
      "source": [
        "#Multiple For's\n",
        "\n",
        "pairs = [(x,y) for x in range(3) for y in range(4)]\n",
        "print(\"pairs\",pairs)\n",
        "increasing_pair = [(x,y) for x in range(4) for y in range(x+1,4)]\n",
        "print(\"increasing_pair\",increasing_pair)"
      ],
      "execution_count": null,
      "outputs": [
        {
          "output_type": "stream",
          "text": [
            "pairs [(0, 0), (0, 1), (0, 2), (0, 3), (1, 0), (1, 1), (1, 2), (1, 3), (2, 0), (2, 1), (2, 2), (2, 3)]\n",
            "increasing_pair [(0, 1), (0, 2), (0, 3), (1, 2), (1, 3), (2, 3)]\n"
          ],
          "name": "stdout"
        }
      ]
    },
    {
      "cell_type": "markdown",
      "metadata": {
        "id": "DL2vyGgxVYd-",
        "colab_type": "text"
      },
      "source": [
        "### **Generator and Iterators**\n"
      ]
    },
    {
      "cell_type": "code",
      "metadata": {
        "id": "-BM-olV9VfRb",
        "colab_type": "code",
        "colab": {
          "base_uri": "https://localhost:8080/",
          "height": 102
        },
        "outputId": "873812d6-6261-4ba3-e12f-c0b0fb25dd64"
      },
      "source": [
        "# a generator is something that you can iterate over but whose value are produced only when needed\n",
        "\n",
        "def lazy_range(n):\n",
        "  #a lazy version of range\n",
        "  i = 0\n",
        "  while i < n:\n",
        "    yield i\n",
        "    i += 1\n",
        "\n",
        "def do_something(k):\n",
        "  print(k)\n",
        "\n",
        "  \n",
        "for i in lazy_range(5):\n",
        "  do_something(i)"
      ],
      "execution_count": null,
      "outputs": [
        {
          "output_type": "stream",
          "text": [
            "0\n",
            "1\n",
            "2\n",
            "3\n",
            "4\n"
          ],
          "name": "stdout"
        }
      ]
    },
    {
      "cell_type": "markdown",
      "metadata": {
        "id": "xZqGGOiHD0Kc",
        "colab_type": "text"
      },
      "source": [
        "### Randomness"
      ]
    },
    {
      "cell_type": "code",
      "metadata": {
        "id": "X1cihZ4cXRkU",
        "colab_type": "code",
        "colab": {
          "base_uri": "https://localhost:8080/",
          "height": 85
        },
        "outputId": "85d28882-0604-491f-d819-96a58dfd2f53"
      },
      "source": [
        "import random\n",
        "\n",
        "four_random_numbers = [random.random() for _ in range(3)]\n",
        "print(\"four random numbers\",four_random_numbers)\n",
        "\n",
        "print(random.random())\n",
        "\n",
        "print(random.random())\n",
        "random.seed(5)\n",
        "print(random.random())"
      ],
      "execution_count": null,
      "outputs": [
        {
          "output_type": "stream",
          "text": [
            "four random numbers [0.7042999111798673, 0.33060680505025886, 0.13847945053932076]\n",
            "0.8160070778623536\n",
            "0.5069729709896116\n",
            "0.6229016948897019\n"
          ],
          "name": "stdout"
        }
      ]
    },
    {
      "cell_type": "code",
      "metadata": {
        "id": "XXVHGJXZF6b1",
        "colab_type": "code",
        "colab": {
          "base_uri": "https://localhost:8080/",
          "height": 34
        },
        "outputId": "0438e347-3da1-4448-b5a7-af49f506fe93"
      },
      "source": [
        "#randonrange\n",
        "#ranging from 0,20\n",
        "random.randrange(20)\n",
        "\n",
        "# ranging from upperlimit to lower limit [3,4,5]\n",
        "random.randrange(3,6)"
      ],
      "execution_count": null,
      "outputs": [
        {
          "output_type": "execute_result",
          "data": {
            "text/plain": [
              "5"
            ]
          },
          "metadata": {
            "tags": []
          },
          "execution_count": 27
        }
      ]
    },
    {
      "cell_type": "code",
      "metadata": {
        "id": "vg3eR2HiGhhc",
        "colab_type": "code",
        "colab": {
          "base_uri": "https://localhost:8080/",
          "height": 34
        },
        "outputId": "87934a3b-5bdd-4c80-a814-bc1148727382"
      },
      "source": [
        "arr = [2,1,3,4,5,2]\n",
        "random.shuffle(arr)\n",
        "print(\"shuffled ordered\",arr)"
      ],
      "execution_count": null,
      "outputs": [
        {
          "output_type": "stream",
          "text": [
            "shuffled ordered [3, 4, 1, 2, 5, 2]\n"
          ],
          "name": "stdout"
        }
      ]
    },
    {
      "cell_type": "code",
      "metadata": {
        "id": "X0a-oXmQG8MI",
        "colab_type": "code",
        "colab": {
          "base_uri": "https://localhost:8080/",
          "height": 35
        },
        "outputId": "03defbea-da7d-4a65-e774-9d429bee1340"
      },
      "source": [
        "choose_one = random.choice([\"Amazon\", \"Bloomberg\", \"JP morgan\"])\n",
        "choose_one"
      ],
      "execution_count": null,
      "outputs": [
        {
          "output_type": "execute_result",
          "data": {
            "application/vnd.google.colaboratory.intrinsic": {
              "type": "string"
            },
            "text/plain": [
              "'Amazon'"
            ]
          },
          "metadata": {
            "tags": []
          },
          "execution_count": 30
        }
      ]
    },
    {
      "cell_type": "code",
      "metadata": {
        "id": "wJIUQ7ckICGS",
        "colab_type": "code",
        "colab": {
          "base_uri": "https://localhost:8080/",
          "height": 34
        },
        "outputId": "d0b30cc2-87eb-4c97-aa1d-6850bb82a84b"
      },
      "source": [
        "lottery_item = range(60)\n",
        "random.sample(lottery_item, 6) # this will not allow duplicates."
      ],
      "execution_count": null,
      "outputs": [
        {
          "output_type": "execute_result",
          "data": {
            "text/plain": [
              "[59, 9, 16, 4, 21, 19]"
            ]
          },
          "metadata": {
            "tags": []
          },
          "execution_count": 39
        }
      ]
    },
    {
      "cell_type": "code",
      "metadata": {
        "id": "x8MioDxtIlSR",
        "colab_type": "code",
        "colab": {
          "base_uri": "https://localhost:8080/",
          "height": 34
        },
        "outputId": "9e08d473-c762-4eb0-a6f2-58092ecfa16d"
      },
      "source": [
        "with_replacement = [random.choice(range(10)) for _ in range(4)]\n",
        "with_replacement # this will allow duplicates."
      ],
      "execution_count": null,
      "outputs": [
        {
          "output_type": "execute_result",
          "data": {
            "text/plain": [
              "[4, 0, 5, 6]"
            ]
          },
          "metadata": {
            "tags": []
          },
          "execution_count": 45
        }
      ]
    },
    {
      "cell_type": "code",
      "metadata": {
        "id": "T585si3AJBqM",
        "colab_type": "code",
        "colab": {
          "base_uri": "https://localhost:8080/",
          "height": 34
        },
        "outputId": "07153ff5-3d1a-4074-953a-6abb583fe5da"
      },
      "source": [
        "import re\n",
        "\n",
        "re_examples = [                        # all of these are true, because\n",
        "    not re.match(\"a\", \"cat\"),              #  'cat' doesn't start with 'a'\n",
        "    re.search(\"a\", \"cat\"),                 #  'cat' has an 'a' in it\n",
        "    not re.search(\"c\", \"dog\"),             #  'dog' doesn't have a 'c' in it\n",
        "    3 == len(re.split(\"[ab]\", \"carbs\")),   #  split on a or b to ['c','r','s']\n",
        "    \"R-D-\" == re.sub(\"[0-9]\", \"-\", \"R2D2\") #  replace digits with dashes\n",
        "    ]\n",
        "\n",
        "print(re_examples)"
      ],
      "execution_count": null,
      "outputs": [
        {
          "output_type": "stream",
          "text": [
            "[True, <_sre.SRE_Match object; span=(1, 2), match='a'>, True, True, True]\n"
          ],
          "name": "stdout"
        }
      ]
    },
    {
      "cell_type": "code",
      "metadata": {
        "id": "o0HzFZVgY7Lh",
        "colab_type": "code",
        "colab": {}
      },
      "source": [
        ""
      ],
      "execution_count": null,
      "outputs": []
    },
    {
      "cell_type": "code",
      "metadata": {
        "id": "Vus9sUnpRnr5",
        "colab_type": "code",
        "colab": {
          "base_uri": "https://localhost:8080/",
          "height": 34
        },
        "outputId": "9253d963-08f5-4ef3-97cc-054348864bfb"
      },
      "source": [
        "not re.search(\"c\", \"dog\")"
      ],
      "execution_count": null,
      "outputs": [
        {
          "output_type": "execute_result",
          "data": {
            "text/plain": [
              "True"
            ]
          },
          "metadata": {
            "tags": []
          },
          "execution_count": 66
        }
      ]
    },
    {
      "cell_type": "code",
      "metadata": {
        "id": "kUniY-CBRWhR",
        "colab_type": "code",
        "colab": {
          "base_uri": "https://localhost:8080/",
          "height": 34
        },
        "outputId": "0aca3234-0106-4474-cc86-4662f05bd9e2"
      },
      "source": [
        "re.search(\"t\", \"cat\")"
      ],
      "execution_count": null,
      "outputs": [
        {
          "output_type": "execute_result",
          "data": {
            "text/plain": [
              "<_sre.SRE_Match object; span=(2, 3), match='t'>"
            ]
          },
          "metadata": {
            "tags": []
          },
          "execution_count": 70
        }
      ]
    },
    {
      "cell_type": "code",
      "metadata": {
        "id": "XzR3HSEZQ7WI",
        "colab_type": "code",
        "colab": {
          "base_uri": "https://localhost:8080/",
          "height": 34
        },
        "outputId": "88d49136-19eb-46a7-d460-809091c9040f"
      },
      "source": [
        "ans = len(re.split(\"[ab]\", \"carbs\"))\n",
        "print(ans)"
      ],
      "execution_count": null,
      "outputs": [
        {
          "output_type": "stream",
          "text": [
            "3\n"
          ],
          "name": "stdout"
        }
      ]
    },
    {
      "cell_type": "code",
      "metadata": {
        "id": "ZYFzqKZJQuAe",
        "colab_type": "code",
        "colab": {
          "base_uri": "https://localhost:8080/",
          "height": 34
        },
        "outputId": "971093fa-fc10-4db3-ad8d-2812710a18af"
      },
      "source": [
        "not re.search(\"c\", \"dog\")"
      ],
      "execution_count": null,
      "outputs": [
        {
          "output_type": "execute_result",
          "data": {
            "text/plain": [
              "True"
            ]
          },
          "metadata": {
            "tags": []
          },
          "execution_count": 53
        }
      ]
    },
    {
      "cell_type": "markdown",
      "metadata": {
        "id": "VJowJwuvZaf2",
        "colab_type": "text"
      },
      "source": [
        "### Object oriented programming"
      ]
    },
    {
      "cell_type": "code",
      "metadata": {
        "id": "50AtSjG-ZZPu",
        "colab_type": "code",
        "colab": {
          "base_uri": "https://localhost:8080/",
          "height": 51
        },
        "outputId": "712ad08c-fe15-440a-8f0b-3bcbe9e66b00"
      },
      "source": [
        "class Set:\n",
        "\n",
        "    def __init__(self, values):\n",
        "      self.dict = {}\n",
        "      if values is not None:\n",
        "        for value in values:\n",
        "          self.add(value)\n",
        "\n",
        "    def __repr__(self):\n",
        "      return \"Set: \" + str(self.dict.keys())\n",
        "\n",
        "    def add(self,value):\n",
        "      self.dict[value] = True\n",
        "\n",
        "    def contains(self,value):\n",
        "      return value in self.dict\n",
        "\n",
        "    def remove(self, value):\n",
        "      del self.dict[value]\n",
        "\n",
        "\n",
        "s = Set([1,2,3])\n",
        "s.add(4)\n",
        "print(s.contains(4))\n",
        "s.remove(3)\n",
        "print(s.contains(3))"
      ],
      "execution_count": null,
      "outputs": [
        {
          "output_type": "stream",
          "text": [
            "True\n",
            "False\n"
          ],
          "name": "stdout"
        }
      ]
    },
    {
      "cell_type": "markdown",
      "metadata": {
        "id": "32yhMRE1ey4U",
        "colab_type": "text"
      },
      "source": [
        "### Functional Tools\n",
        "\n"
      ]
    },
    {
      "cell_type": "code",
      "metadata": {
        "id": "xxUmpBvRfNaw",
        "colab_type": "code",
        "colab": {
          "base_uri": "https://localhost:8080/",
          "height": 51
        },
        "outputId": "bd1aacc9-ac00-4e4d-a45a-f32c10008e60"
      },
      "source": [
        "def exp(base, power):\n",
        "  return base ** power\n",
        "\n",
        "def to_the_power(number,power):\n",
        "  return exp(number, power)\n",
        "\n",
        "to_the_power(2,3)\n",
        "\n",
        "from functools import partial\n",
        "\n",
        "two_the_power = partial(exp,2)\n",
        "print(two_the_power(3))\n",
        "\n",
        "sqaure_of = partial(exp, power = 2)\n",
        "print(sqaure_of(5))"
      ],
      "execution_count": 89,
      "outputs": [
        {
          "output_type": "stream",
          "text": [
            "8\n",
            "25\n"
          ],
          "name": "stdout"
        }
      ]
    },
    {
      "cell_type": "code",
      "metadata": {
        "id": "w2lIA7pDicEu",
        "colab_type": "code",
        "colab": {
          "base_uri": "https://localhost:8080/",
          "height": 34
        },
        "outputId": "1bf4ef56-af3c-49fd-82f6-b7b3f69a7d7e"
      },
      "source": [
        "def func(u,v,w,x):\n",
        "    return u + v + w + x\n",
        "\n",
        "p = partial(func,5,6,7)\n",
        "print(p(8))"
      ],
      "execution_count": 91,
      "outputs": [
        {
          "output_type": "stream",
          "text": [
            "26\n"
          ],
          "name": "stdout"
        }
      ]
    },
    {
      "cell_type": "code",
      "metadata": {
        "id": "RJhcHuEQivm0",
        "colab_type": "code",
        "colab": {
          "base_uri": "https://localhost:8080/",
          "height": 272
        },
        "outputId": "c1c36830-955f-41ba-9f54-06ccd0d6dab1"
      },
      "source": [
        "def double(x):\n",
        "  return 2*x\n",
        "\n",
        "xs = [2,4,1,3]\n",
        "twice_xs = [double(x) for x in xs]\n",
        "print(twice_xs)\n",
        "twice_map_xs = map(double,xs) # map returns list\n",
        "for i in twice_map_xs:\n",
        "  print(i)\n",
        "\n",
        "print(\"--------------------------------\")\n",
        "# so map is used when we want to apply function for each argument\n",
        "for j in map(double,xs):\n",
        "  print(j)\n",
        "print(\"--------------------------------\")\n",
        "list_doubler_partial = partial(map,double) # function that doubles a list \n",
        "list_it = list_doubler_partial(xs) \n",
        "for k in list_it:\n",
        "  print(k)"
      ],
      "execution_count": 109,
      "outputs": [
        {
          "output_type": "stream",
          "text": [
            "[4, 8, 2, 6]\n",
            "4\n",
            "8\n",
            "2\n",
            "6\n",
            "--------------------------------\n",
            "4\n",
            "8\n",
            "2\n",
            "6\n",
            "--------------------------------\n",
            "4\n",
            "8\n",
            "2\n",
            "6\n"
          ],
          "name": "stdout"
        }
      ]
    },
    {
      "cell_type": "code",
      "metadata": {
        "id": "NiAHlU4clpxD",
        "colab_type": "code",
        "colab": {
          "base_uri": "https://localhost:8080/",
          "height": 102
        },
        "outputId": "49a86a2f-1885-4716-e2a3-e6ebf157d6d9"
      },
      "source": [
        "# map multiple example\n",
        "\n",
        "def multiply(x,y):\n",
        "  return x*y\n",
        "\n",
        "\n",
        "products = map(multiply, [2,3],[5,4])\n",
        "for i in products:\n",
        "  print(i)\n",
        "print(\"--------------------------------\")\n",
        "\n",
        "for j in map(multiply,[2,4],[4,5]):\n",
        "  print(j)\n",
        "\n",
        "# NOTE: map always returns a list and we can also provide multiple lists"
      ],
      "execution_count": 113,
      "outputs": [
        {
          "output_type": "stream",
          "text": [
            "10\n",
            "12\n",
            "--------------------------------\n",
            "8\n",
            "20\n"
          ],
          "name": "stdout"
        }
      ]
    },
    {
      "cell_type": "code",
      "metadata": {
        "id": "WHbCPFhymkr0",
        "colab_type": "code",
        "colab": {
          "base_uri": "https://localhost:8080/",
          "height": 170
        },
        "outputId": "8d4b396a-6e8b-4e9c-8e5b-05f1739ed133"
      },
      "source": [
        "# Filter\n",
        "\n",
        "def even(x):\n",
        "  return x%2 ==0\n",
        "\n",
        "even_no = [x for x in xs if even(x)]\n",
        "print(even_no)\n",
        "print(\"--------\")\n",
        "x_even = filter(even,xs)\n",
        "for i in x_even:\n",
        "  print(i)\n",
        "print(\"--------\")\n",
        "\n",
        "map_out_even = map(even, xs)\n",
        "for j in map_out_even:\n",
        "  print(j)\n"
      ],
      "execution_count": 122,
      "outputs": [
        {
          "output_type": "stream",
          "text": [
            "[2, 4]\n",
            "--------\n",
            "2\n",
            "4\n",
            "--------\n",
            "True\n",
            "True\n",
            "False\n",
            "False\n"
          ],
          "name": "stdout"
        }
      ]
    },
    {
      "cell_type": "markdown",
      "metadata": {
        "id": "rm9up8mvoZFi",
        "colab_type": "text"
      },
      "source": [
        "###Enumerate"
      ]
    },
    {
      "cell_type": "code",
      "metadata": {
        "id": "kVLYWggPob6Y",
        "colab_type": "code",
        "colab": {
          "base_uri": "https://localhost:8080/",
          "height": 85
        },
        "outputId": "882cd4c5-8618-4fad-d558-8b706ae28f13"
      },
      "source": [
        "for i in enumerate(xs):\n",
        "  print(i)\n",
        "\n",
        "# Notes: This produces the tuple of (index , value)"
      ],
      "execution_count": 123,
      "outputs": [
        {
          "output_type": "stream",
          "text": [
            "(0, 2)\n",
            "(1, 4)\n",
            "(2, 1)\n",
            "(3, 3)\n"
          ],
          "name": "stdout"
        }
      ]
    },
    {
      "cell_type": "markdown",
      "metadata": {
        "id": "R_UiviUuo11d",
        "colab_type": "text"
      },
      "source": [
        "### Zip and args"
      ]
    },
    {
      "cell_type": "code",
      "metadata": {
        "id": "9DI6X-p7owR8",
        "colab_type": "code",
        "colab": {
          "base_uri": "https://localhost:8080/",
          "height": 68
        },
        "outputId": "f4fdc6c1-019a-4510-d996-96eeeda9c431"
      },
      "source": [
        "# zip\n",
        "l1 = [2,3,4]\n",
        "l2 = ['a','b','c']\n",
        "zip_val = zip(l1,l2)\n",
        "for i in zip_val:\n",
        "  print(i)"
      ],
      "execution_count": 125,
      "outputs": [
        {
          "output_type": "stream",
          "text": [
            "(2, 'a')\n",
            "(3, 'b')\n",
            "(4, 'c')\n"
          ],
          "name": "stdout"
        }
      ]
    },
    {
      "cell_type": "code",
      "metadata": {
        "id": "s1-iKlmlpO6a",
        "colab_type": "code",
        "colab": {
          "base_uri": "https://localhost:8080/",
          "height": 34
        },
        "outputId": "2f177f0e-6ca1-421b-d830-9edd9e403f1a"
      },
      "source": [
        "# unzip\n",
        "\n",
        "pair = [(2, 'a'),(3, 'b'),(4, 'c')]\n",
        "letters, number = zip(*pair)\n",
        "print(letters, number)\n",
        "# Note : asterisk performs unpacking \n"
      ],
      "execution_count": 130,
      "outputs": [
        {
          "output_type": "stream",
          "text": [
            "(2, 3, 4) ('a', 'b', 'c')\n"
          ],
          "name": "stdout"
        }
      ]
    }
  ]
}